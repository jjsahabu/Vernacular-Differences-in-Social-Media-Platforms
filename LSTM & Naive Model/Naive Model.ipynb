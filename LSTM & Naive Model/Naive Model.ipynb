{
 "cells": [
  {
   "cell_type": "markdown",
   "metadata": {
    "colab_type": "text",
    "id": "9wFMIL3e5pS8"
   },
   "source": [
    "A Naive Way to approach identifying Twitter vs. Facebook Data is that tweets are limited to a maximum of 280 characters. Of course, some facebook posts are also shorter than 280 characters, but we find this a good baseline to differentiate between the two platforms"
   ]
  },
  {
   "cell_type": "code",
   "execution_count": 1,
   "metadata": {
    "colab": {},
    "colab_type": "code",
    "id": "KCqr_qbR5eMH"
   },
   "outputs": [],
   "source": [
    "#Load the libraries\n",
    "import pandas as pd\n",
    "import numpy as np\n",
    "import io"
   ]
  },
  {
   "cell_type": "code",
   "execution_count": 3,
   "metadata": {
    "colab": {},
    "colab_type": "code",
    "id": "VETcQsoq7g6I"
   },
   "outputs": [],
   "source": [
    "train_data = pd.read_csv('~/pytorch-transformers-classification/JJ/csv_Data/short_train.csv')\n",
    "test_data = pd.read_csv('~/pytorch-transformers-classification/JJ/csv_Data/short_test.csv') "
   ]
  },
  {
   "cell_type": "code",
   "execution_count": 5,
   "metadata": {},
   "outputs": [
    {
     "data": {
      "text/plain": [
       "24960"
      ]
     },
     "execution_count": 5,
     "metadata": {},
     "output_type": "execute_result"
    }
   ],
   "source": []
  },
  {
   "cell_type": "code",
   "execution_count": 33,
   "metadata": {},
   "outputs": [
    {
     "name": "stdout",
     "output_type": "stream",
     "text": [
      "24960\n",
      "22199\n",
      "0.8893830128205128\n",
      "13356\n",
      "8843\n"
     ]
    }
   ],
   "source": [
    "count = 0\n",
    "counter = 0\n",
    "\n",
    "for i in range(len(train_data['char_length'])):\n",
    "    if train_data['char_length'][i] < 280:\n",
    "        count += 1\n",
    "    if train_data['label'][i] == 1:\n",
    "        counter += 1\n",
    "        \n",
    "print(len(train_data['char_length']))\n",
    "print(count)\n",
    "print(count / len(train_data['char_length']))\n",
    "\n",
    "print(counter)\n",
    "print(count - counter)\n",
    "    "
   ]
  },
  {
   "cell_type": "code",
   "execution_count": 8,
   "metadata": {
    "colab": {},
    "colab_type": "code",
    "id": "pp40Bofu8GGO"
   },
   "outputs": [],
   "source": [
    "def NaiveModel(train_data, test_data):\n",
    "\n",
    "#TRAIN DATA ---------------------------------------  \n",
    "  #Convert to character lengths\n",
    "    char = []\n",
    "    for i in range(len(train_data['text'])):\n",
    "        char.append(len(train_data['text'][i]))\n",
    "        \n",
    "    #Add it back into the Dataframe\n",
    "    train_data['char_length'] = char\n",
    "\n",
    "    #Predict on Character Length ( < 280 characters )\n",
    "    predicted_train = []\n",
    "    for i in range(len(train_data['char_length'])):\n",
    "        if train_data['char_length'][i] < 280:\n",
    "            predicted_train.append(1)\n",
    "        else:\n",
    "            predicted_train.append(0)\n",
    "\n",
    "    #Create train_labels\n",
    "    train_labels = []\n",
    "    for i in train_data['label']:\n",
    "        train_labels.append(int(i))\n",
    "\n",
    "    # Turn train_labels and predicted_train into numpy arrays\n",
    "    train_labels = np.asarray(train_labels)\n",
    "    predicted_train = np.asarray(predicted_train)\n",
    "\n",
    "    #Calculate Accuracy\n",
    "    incorrect = sum(train_labels != predicted_train)\n",
    "    accuracy = sum(train_labels == predicted_train) / len(train_labels)\n",
    "    print(\"-------------------------------------------\")\n",
    "    print(\"Train_data\")\n",
    "    print(\"Incorect Predictions: \", incorrect)\n",
    "    print(\"Accuracy: \", accuracy)\n",
    "    print(\"-------------------------------------------\")\n",
    "    #---------------------------------------------------------------------------\n",
    "\n",
    "    #TEST DATA ---------------------------------------  \n",
    "    #Convert to character lengths\n",
    "    char = []\n",
    "    for i in range(len(test_data['text'])):\n",
    "        char.append(len(test_data['text'][i]))\n",
    "    #Add it back into the Dataframe\n",
    "    test_data['char_length'] = char\n",
    "\n",
    "    #Predict on Character Length ( < 280 characters )\n",
    "    predicted_test = []\n",
    "    for i in range(len(test_data['char_length'])):\n",
    "        if test_data['char_length'][i] < 280:\n",
    "            predicted_test.append(1)\n",
    "        else:\n",
    "            predicted_test.append(0)\n",
    "\n",
    "    #Create train_labels\n",
    "    test_labels = []\n",
    "    for i in test_data['label']:\n",
    "        test_labels.append(int(i))\n",
    "\n",
    "    # Turn test_labels and predicted_test into numpy arrays\n",
    "    test_labels = np.asarray(test_labels)\n",
    "    predicted_test = np.asarray(predicted_test)\n",
    "\n",
    "    #Calculate Accuracy\n",
    "    incorrect = sum(test_labels != predicted_test)\n",
    "    accuracy = sum(test_labels == predicted_test) / len(test_labels)\n",
    "\n",
    "    print(\"-------------------------------------------\")\n",
    "    print(\"Test_data\")\n",
    "    print(\"Incorect Predictions: \", incorrect)\n",
    "    print(\"Accuracy: \", accuracy)\n",
    "    print(\"-------------------------------------------\")\n",
    "    #---------------------------------------------------------------------------\n"
   ]
  },
  {
   "cell_type": "code",
   "execution_count": 9,
   "metadata": {
    "colab": {
     "base_uri": "https://localhost:8080/",
     "height": 187
    },
    "colab_type": "code",
    "executionInfo": {
     "elapsed": 6283,
     "status": "ok",
     "timestamp": 1586759054664,
     "user": {
      "displayName": "Jeremiah Sahabu",
      "photoUrl": "",
      "userId": "13834387474668736327"
     },
     "user_tz": 420
    },
    "id": "KI4T4e1K_FbH",
    "outputId": "2df0185e-2098-45ec-cb59-544f5d299524"
   },
   "outputs": [
    {
     "name": "stdout",
     "output_type": "stream",
     "text": [
      "-------------------------------------------\n",
      "Train_data\n",
      "Incorect Predictions:  9385\n",
      "Accuracy:  0.6239983974358975\n",
      "-------------------------------------------\n",
      "-------------------------------------------\n",
      "Test_data\n",
      "Incorect Predictions:  2556\n",
      "Accuracy:  0.5233121969414397\n",
      "-------------------------------------------\n"
     ]
    }
   ],
   "source": [
    "NaiveModel(train_data, test_data)"
   ]
  },
  {
   "cell_type": "code",
   "execution_count": 26,
   "metadata": {
    "colab": {},
    "colab_type": "code",
    "id": "R4dlEOBV_Itb"
   },
   "outputs": [],
   "source": [
    "def SanityCheck(data):\n",
    "    removal = []\n",
    "    for i in range(len(data['text'])):\n",
    "        if isinstance(data['text'][i], float):\n",
    "            removal.append(i)\n",
    "    if len(removal) > 0:\n",
    "        print('Before: ', data['text'][removal[0]])\n",
    "        data = data.drop(removal, axis=0)\n",
    "        data = data.reset_index()\n",
    "        print('After: ', data['text'][removal[0]])\n",
    "    if len(removal) == 0:\n",
    "        print(\"No Floats found\")\n",
    "\n",
    "    return removal, data\n",
    "      "
   ]
  },
  {
   "cell_type": "code",
   "execution_count": 27,
   "metadata": {
    "colab": {
     "base_uri": "https://localhost:8080/",
     "height": 51
    },
    "colab_type": "code",
    "executionInfo": {
     "elapsed": 859,
     "status": "ok",
     "timestamp": 1586757560072,
     "user": {
      "displayName": "Jeremiah Sahabu",
      "photoUrl": "",
      "userId": "13834387474668736327"
     },
     "user_tz": 420
    },
    "id": "P3IxNmOsAAkh",
    "outputId": "10d257af-6a8b-4c84-d706-95650cd9c2c3"
   },
   "outputs": [
    {
     "name": "stdout",
     "output_type": "stream",
     "text": [
      "No Floats found\n"
     ]
    }
   ],
   "source": [
    "pull = SanityCheck(test_data)"
   ]
  },
  {
   "cell_type": "code",
   "execution_count": 28,
   "metadata": {
    "colab": {},
    "colab_type": "code",
    "id": "BdK4EXYgAN6N"
   },
   "outputs": [],
   "source": [
    "removal = pull[0]\n",
    "test_data = pull[1]"
   ]
  },
  {
   "cell_type": "code",
   "execution_count": 29,
   "metadata": {
    "colab": {
     "base_uri": "https://localhost:8080/",
     "height": 34
    },
    "colab_type": "code",
    "executionInfo": {
     "elapsed": 869,
     "status": "ok",
     "timestamp": 1586757570505,
     "user": {
      "displayName": "Jeremiah Sahabu",
      "photoUrl": "",
      "userId": "13834387474668736327"
     },
     "user_tz": 420
    },
    "id": "BPxxSGj_ATHB",
    "outputId": "ab9febdb-91db-4aef-d398-5edae638526a"
   },
   "outputs": [
    {
     "name": "stdout",
     "output_type": "stream",
     "text": [
      "No Floats found\n"
     ]
    }
   ],
   "source": [
    "pull = SanityCheck(test_data)"
   ]
  },
  {
   "cell_type": "code",
   "execution_count": 30,
   "metadata": {
    "colab": {
     "base_uri": "https://localhost:8080/",
     "height": 51
    },
    "colab_type": "code",
    "executionInfo": {
     "elapsed": 2410,
     "status": "ok",
     "timestamp": 1586757573518,
     "user": {
      "displayName": "Jeremiah Sahabu",
      "photoUrl": "",
      "userId": "13834387474668736327"
     },
     "user_tz": 420
    },
    "id": "y8SmNaY2A9uU",
    "outputId": "9b51e0a6-f1ed-47d7-8d56-885c9fee6fce"
   },
   "outputs": [
    {
     "name": "stdout",
     "output_type": "stream",
     "text": [
      "No Floats found\n"
     ]
    }
   ],
   "source": [
    "pull = SanityCheck(train_data)"
   ]
  },
  {
   "cell_type": "code",
   "execution_count": 31,
   "metadata": {
    "colab": {},
    "colab_type": "code",
    "id": "AYhIY6IEBGnm"
   },
   "outputs": [],
   "source": [
    "removal = pull[0]\n",
    "train_data = pull[1]"
   ]
  },
  {
   "cell_type": "code",
   "execution_count": 32,
   "metadata": {
    "colab": {
     "base_uri": "https://localhost:8080/",
     "height": 34
    },
    "colab_type": "code",
    "executionInfo": {
     "elapsed": 2334,
     "status": "ok",
     "timestamp": 1586757579954,
     "user": {
      "displayName": "Jeremiah Sahabu",
      "photoUrl": "",
      "userId": "13834387474668736327"
     },
     "user_tz": 420
    },
    "id": "-oCfh_6JHp7-",
    "outputId": "4e72bb4c-d7f6-4ef0-fd8f-f0941cfe1fdc"
   },
   "outputs": [
    {
     "name": "stdout",
     "output_type": "stream",
     "text": [
      "No Floats found\n"
     ]
    }
   ],
   "source": [
    "pull = SanityCheck(train_data)"
   ]
  },
  {
   "cell_type": "code",
   "execution_count": 0,
   "metadata": {
    "colab": {},
    "colab_type": "code",
    "id": "rlUdmYYlBltK"
   },
   "outputs": [],
   "source": [
    "#If Data is unclean, redownload and update Team Folder csv\n",
    "\n",
    "csv_data = train_data.to_csv('train_data.csv', index=False)\n",
    "csv_data = test_data.to_csv('test_data.csv', index=False)\n"
   ]
  },
  {
   "cell_type": "code",
   "execution_count": 0,
   "metadata": {
    "colab": {},
    "colab_type": "code",
    "id": "TVDbXtm2DA20"
   },
   "outputs": [],
   "source": [
    "files.download('train_data.csv')"
   ]
  },
  {
   "cell_type": "code",
   "execution_count": 0,
   "metadata": {
    "colab": {},
    "colab_type": "code",
    "id": "DGNt5Ht5DFMV"
   },
   "outputs": [],
   "source": [
    "files.download('test_data.csv')"
   ]
  },
  {
   "cell_type": "code",
   "execution_count": 114,
   "metadata": {
    "colab": {
     "base_uri": "https://localhost:8080/",
     "height": 34
    },
    "colab_type": "code",
    "executionInfo": {
     "elapsed": 2338,
     "status": "ok",
     "timestamp": 1586770167601,
     "user": {
      "displayName": "Jeremiah Sahabu",
      "photoUrl": "",
      "userId": "13834387474668736327"
     },
     "user_tz": 420
    },
    "id": "a2ffZh78H9yh",
    "outputId": "23156712-ab19-4802-bf95-309155251a0a"
   },
   "outputs": [
    {
     "data": {
      "text/plain": [
       "'LMAOOOOOO please listen to Tracer Ellis pronounce “ Saweetie ” name . I am fucking crying '"
      ]
     },
     "execution_count": 114,
     "metadata": {
      "tags": []
     },
     "output_type": "execute_result"
    }
   ],
   "source": [
    "#Removing Blanks\n",
    "blanks = []\n",
    "for i in range(len(train_data['text'])):\n",
    "  if train_data['text'][i] == \" \":\n",
    "    blanks.append(i)\n",
    "\n",
    "blanks\n",
    "\n",
    "train_data = train_data.drop(blanks, axis=0)\n",
    "train_data = train_data.reset_index()\n",
    "\n",
    "train_data['text'][236]\n",
    "\n"
   ]
  },
  {
   "cell_type": "code",
   "execution_count": 117,
   "metadata": {
    "colab": {
     "base_uri": "https://localhost:8080/",
     "height": 419
    },
    "colab_type": "code",
    "executionInfo": {
     "elapsed": 986,
     "status": "ok",
     "timestamp": 1586772017100,
     "user": {
      "displayName": "Jeremiah Sahabu",
      "photoUrl": "",
      "userId": "13834387474668736327"
     },
     "user_tz": 420
    },
    "id": "OUC0ti2WMQ2o",
    "outputId": "5f12593d-b68c-4502-ebf6-4e8a9109c893"
   },
   "outputs": [
    {
     "data": {
      "text/html": [
       "<div>\n",
       "<style scoped>\n",
       "    .dataframe tbody tr th:only-of-type {\n",
       "        vertical-align: middle;\n",
       "    }\n",
       "\n",
       "    .dataframe tbody tr th {\n",
       "        vertical-align: top;\n",
       "    }\n",
       "\n",
       "    .dataframe thead th {\n",
       "        text-align: right;\n",
       "    }\n",
       "</style>\n",
       "<table border=\"1\" class=\"dataframe\">\n",
       "  <thead>\n",
       "    <tr style=\"text-align: right;\">\n",
       "      <th></th>\n",
       "      <th>level_0</th>\n",
       "      <th>index</th>\n",
       "      <th>label</th>\n",
       "      <th>text</th>\n",
       "      <th>category</th>\n",
       "      <th>char_length</th>\n",
       "    </tr>\n",
       "  </thead>\n",
       "  <tbody>\n",
       "    <tr>\n",
       "      <th>0</th>\n",
       "      <td>0</td>\n",
       "      <td>0</td>\n",
       "      <td>1</td>\n",
       "      <td>Kawhi became suspicious . Cleared to play but ...</td>\n",
       "      <td>0</td>\n",
       "      <td>62</td>\n",
       "    </tr>\n",
       "    <tr>\n",
       "      <th>1</th>\n",
       "      <td>1</td>\n",
       "      <td>1</td>\n",
       "      <td>1</td>\n",
       "      <td>Shi * , I amma sleep good . Rather he stays or...</td>\n",
       "      <td>0</td>\n",
       "      <td>52</td>\n",
       "    </tr>\n",
       "    <tr>\n",
       "      <th>2</th>\n",
       "      <td>2</td>\n",
       "      <td>2</td>\n",
       "      <td>1</td>\n",
       "      <td>To get to an athlete , appeal to his toughness...</td>\n",
       "      <td>0</td>\n",
       "      <td>100</td>\n",
       "    </tr>\n",
       "    <tr>\n",
       "      <th>3</th>\n",
       "      <td>3</td>\n",
       "      <td>3</td>\n",
       "      <td>1</td>\n",
       "      <td>Should give you guys an anatomy chart . So you...</td>\n",
       "      <td>0</td>\n",
       "      <td>114</td>\n",
       "    </tr>\n",
       "    <tr>\n",
       "      <th>4</th>\n",
       "      <td>4</td>\n",
       "      <td>4</td>\n",
       "      <td>1</td>\n",
       "      <td>My only point is , KD should have gotten a 2nd...</td>\n",
       "      <td>0</td>\n",
       "      <td>98</td>\n",
       "    </tr>\n",
       "    <tr>\n",
       "      <th>...</th>\n",
       "      <td>...</td>\n",
       "      <td>...</td>\n",
       "      <td>...</td>\n",
       "      <td>...</td>\n",
       "      <td>...</td>\n",
       "      <td>...</td>\n",
       "    </tr>\n",
       "    <tr>\n",
       "      <th>34433</th>\n",
       "      <td>34777</td>\n",
       "      <td>35159</td>\n",
       "      <td>0</td>\n",
       "      <td>the kung fu nuns of the hi amalayas break bric...</td>\n",
       "      <td>6</td>\n",
       "      <td>120</td>\n",
       "    </tr>\n",
       "    <tr>\n",
       "      <th>34434</th>\n",
       "      <td>34778</td>\n",
       "      <td>35160</td>\n",
       "      <td>0</td>\n",
       "      <td>girl scouts of greater new yorks troop 6000 is...</td>\n",
       "      <td>6</td>\n",
       "      <td>280</td>\n",
       "    </tr>\n",
       "    <tr>\n",
       "      <th>34435</th>\n",
       "      <td>34779</td>\n",
       "      <td>35161</td>\n",
       "      <td>0</td>\n",
       "      <td>they sell cookies, earn badges and, on their h...</td>\n",
       "      <td>6</td>\n",
       "      <td>344</td>\n",
       "    </tr>\n",
       "    <tr>\n",
       "      <th>34436</th>\n",
       "      <td>34780</td>\n",
       "      <td>35162</td>\n",
       "      <td>0</td>\n",
       "      <td>we changed our logo for #hashtag  be sure to ...</td>\n",
       "      <td>6</td>\n",
       "      <td>245</td>\n",
       "    </tr>\n",
       "    <tr>\n",
       "      <th>34437</th>\n",
       "      <td>34781</td>\n",
       "      <td>35163</td>\n",
       "      <td>0</td>\n",
       "      <td>chandro tomar, aka shooter dadi, is in her 80s...</td>\n",
       "      <td>6</td>\n",
       "      <td>240</td>\n",
       "    </tr>\n",
       "  </tbody>\n",
       "</table>\n",
       "<p>34438 rows × 6 columns</p>\n",
       "</div>"
      ],
      "text/plain": [
       "       level_0  index  ...  category char_length\n",
       "0            0      0  ...         0          62\n",
       "1            1      1  ...         0          52\n",
       "2            2      2  ...         0         100\n",
       "3            3      3  ...         0         114\n",
       "4            4      4  ...         0          98\n",
       "...        ...    ...  ...       ...         ...\n",
       "34433    34777  35159  ...         6         120\n",
       "34434    34778  35160  ...         6         280\n",
       "34435    34779  35161  ...         6         344\n",
       "34436    34780  35162  ...         6         245\n",
       "34437    34781  35163  ...         6         240\n",
       "\n",
       "[34438 rows x 6 columns]"
      ]
     },
     "execution_count": 117,
     "metadata": {
      "tags": []
     },
     "output_type": "execute_result"
    }
   ],
   "source": [
    "blanks = []\n",
    "for i in range(len(test_data['text'])):\n",
    "  if test_data['text'][i] == \" \":\n",
    "    blanks.append(i)\n",
    "\n",
    "blanks\n",
    "\n",
    "test_data = test_data.drop(blanks, axis=0)\n",
    "test_data = test_data.reset_index()\n",
    "\n",
    "test_data"
   ]
  },
  {
   "cell_type": "code",
   "execution_count": 119,
   "metadata": {
    "colab": {
     "base_uri": "https://localhost:8080/",
     "height": 419
    },
    "colab_type": "code",
    "executionInfo": {
     "elapsed": 319,
     "status": "ok",
     "timestamp": 1586772044970,
     "user": {
      "displayName": "Jeremiah Sahabu",
      "photoUrl": "",
      "userId": "13834387474668736327"
     },
     "user_tz": 420
    },
    "id": "tVlLtMLV4B-8",
    "outputId": "43969523-d157-4b4e-a569-06a9a8cde6e4"
   },
   "outputs": [
    {
     "data": {
      "text/html": [
       "<div>\n",
       "<style scoped>\n",
       "    .dataframe tbody tr th:only-of-type {\n",
       "        vertical-align: middle;\n",
       "    }\n",
       "\n",
       "    .dataframe tbody tr th {\n",
       "        vertical-align: top;\n",
       "    }\n",
       "\n",
       "    .dataframe thead th {\n",
       "        text-align: right;\n",
       "    }\n",
       "</style>\n",
       "<table border=\"1\" class=\"dataframe\">\n",
       "  <thead>\n",
       "    <tr style=\"text-align: right;\">\n",
       "      <th></th>\n",
       "      <th>index</th>\n",
       "      <th>label</th>\n",
       "      <th>text</th>\n",
       "      <th>category</th>\n",
       "      <th>char_length</th>\n",
       "    </tr>\n",
       "  </thead>\n",
       "  <tbody>\n",
       "    <tr>\n",
       "      <th>0</th>\n",
       "      <td>0</td>\n",
       "      <td>1</td>\n",
       "      <td>Kawhi became suspicious . Cleared to play but ...</td>\n",
       "      <td>0</td>\n",
       "      <td>62</td>\n",
       "    </tr>\n",
       "    <tr>\n",
       "      <th>1</th>\n",
       "      <td>1</td>\n",
       "      <td>1</td>\n",
       "      <td>Shi * , I amma sleep good . Rather he stays or...</td>\n",
       "      <td>0</td>\n",
       "      <td>52</td>\n",
       "    </tr>\n",
       "    <tr>\n",
       "      <th>2</th>\n",
       "      <td>2</td>\n",
       "      <td>1</td>\n",
       "      <td>To get to an athlete , appeal to his toughness...</td>\n",
       "      <td>0</td>\n",
       "      <td>100</td>\n",
       "    </tr>\n",
       "    <tr>\n",
       "      <th>3</th>\n",
       "      <td>3</td>\n",
       "      <td>1</td>\n",
       "      <td>Should give you guys an anatomy chart . So you...</td>\n",
       "      <td>0</td>\n",
       "      <td>114</td>\n",
       "    </tr>\n",
       "    <tr>\n",
       "      <th>4</th>\n",
       "      <td>4</td>\n",
       "      <td>1</td>\n",
       "      <td>My only point is , KD should have gotten a 2nd...</td>\n",
       "      <td>0</td>\n",
       "      <td>98</td>\n",
       "    </tr>\n",
       "    <tr>\n",
       "      <th>...</th>\n",
       "      <td>...</td>\n",
       "      <td>...</td>\n",
       "      <td>...</td>\n",
       "      <td>...</td>\n",
       "      <td>...</td>\n",
       "    </tr>\n",
       "    <tr>\n",
       "      <th>34433</th>\n",
       "      <td>35159</td>\n",
       "      <td>0</td>\n",
       "      <td>the kung fu nuns of the hi amalayas break bric...</td>\n",
       "      <td>6</td>\n",
       "      <td>120</td>\n",
       "    </tr>\n",
       "    <tr>\n",
       "      <th>34434</th>\n",
       "      <td>35160</td>\n",
       "      <td>0</td>\n",
       "      <td>girl scouts of greater new yorks troop 6000 is...</td>\n",
       "      <td>6</td>\n",
       "      <td>280</td>\n",
       "    </tr>\n",
       "    <tr>\n",
       "      <th>34435</th>\n",
       "      <td>35161</td>\n",
       "      <td>0</td>\n",
       "      <td>they sell cookies, earn badges and, on their h...</td>\n",
       "      <td>6</td>\n",
       "      <td>344</td>\n",
       "    </tr>\n",
       "    <tr>\n",
       "      <th>34436</th>\n",
       "      <td>35162</td>\n",
       "      <td>0</td>\n",
       "      <td>we changed our logo for #hashtag  be sure to ...</td>\n",
       "      <td>6</td>\n",
       "      <td>245</td>\n",
       "    </tr>\n",
       "    <tr>\n",
       "      <th>34437</th>\n",
       "      <td>35163</td>\n",
       "      <td>0</td>\n",
       "      <td>chandro tomar, aka shooter dadi, is in her 80s...</td>\n",
       "      <td>6</td>\n",
       "      <td>240</td>\n",
       "    </tr>\n",
       "  </tbody>\n",
       "</table>\n",
       "<p>34438 rows × 5 columns</p>\n",
       "</div>"
      ],
      "text/plain": [
       "       index  label  ... category  char_length\n",
       "0          0      1  ...        0           62\n",
       "1          1      1  ...        0           52\n",
       "2          2      1  ...        0          100\n",
       "3          3      1  ...        0          114\n",
       "4          4      1  ...        0           98\n",
       "...      ...    ...  ...      ...          ...\n",
       "34433  35159      0  ...        6          120\n",
       "34434  35160      0  ...        6          280\n",
       "34435  35161      0  ...        6          344\n",
       "34436  35162      0  ...        6          245\n",
       "34437  35163      0  ...        6          240\n",
       "\n",
       "[34438 rows x 5 columns]"
      ]
     },
     "execution_count": 119,
     "metadata": {
      "tags": []
     },
     "output_type": "execute_result"
    }
   ],
   "source": [
    "test_data.drop('level_0', axis=1)"
   ]
  },
  {
   "cell_type": "code",
   "execution_count": 0,
   "metadata": {
    "colab": {},
    "colab_type": "code",
    "id": "HdlHRlL5-8F-"
   },
   "outputs": [],
   "source": [
    "test_data = test_data.drop('label', axis=1)"
   ]
  },
  {
   "cell_type": "code",
   "execution_count": 0,
   "metadata": {
    "colab": {},
    "colab_type": "code",
    "id": "RJ3TLQsU_H3L"
   },
   "outputs": [],
   "source": [
    "test_data = test_data.drop('level_0', axis=1)"
   ]
  },
  {
   "cell_type": "code",
   "execution_count": 123,
   "metadata": {
    "colab": {
     "base_uri": "https://localhost:8080/",
     "height": 419
    },
    "colab_type": "code",
    "executionInfo": {
     "elapsed": 446,
     "status": "ok",
     "timestamp": 1586772106422,
     "user": {
      "displayName": "Jeremiah Sahabu",
      "photoUrl": "",
      "userId": "13834387474668736327"
     },
     "user_tz": 420
    },
    "id": "EwvqeUD6_I_1",
    "outputId": "8443a4c7-b5be-4be5-b779-dd27c05bb592"
   },
   "outputs": [
    {
     "data": {
      "text/html": [
       "<div>\n",
       "<style scoped>\n",
       "    .dataframe tbody tr th:only-of-type {\n",
       "        vertical-align: middle;\n",
       "    }\n",
       "\n",
       "    .dataframe tbody tr th {\n",
       "        vertical-align: top;\n",
       "    }\n",
       "\n",
       "    .dataframe thead th {\n",
       "        text-align: right;\n",
       "    }\n",
       "</style>\n",
       "<table border=\"1\" class=\"dataframe\">\n",
       "  <thead>\n",
       "    <tr style=\"text-align: right;\">\n",
       "      <th></th>\n",
       "      <th>index</th>\n",
       "      <th>text</th>\n",
       "      <th>category</th>\n",
       "      <th>char_length</th>\n",
       "    </tr>\n",
       "  </thead>\n",
       "  <tbody>\n",
       "    <tr>\n",
       "      <th>0</th>\n",
       "      <td>0</td>\n",
       "      <td>Kawhi became suspicious . Cleared to play but ...</td>\n",
       "      <td>0</td>\n",
       "      <td>62</td>\n",
       "    </tr>\n",
       "    <tr>\n",
       "      <th>1</th>\n",
       "      <td>1</td>\n",
       "      <td>Shi * , I amma sleep good . Rather he stays or...</td>\n",
       "      <td>0</td>\n",
       "      <td>52</td>\n",
       "    </tr>\n",
       "    <tr>\n",
       "      <th>2</th>\n",
       "      <td>2</td>\n",
       "      <td>To get to an athlete , appeal to his toughness...</td>\n",
       "      <td>0</td>\n",
       "      <td>100</td>\n",
       "    </tr>\n",
       "    <tr>\n",
       "      <th>3</th>\n",
       "      <td>3</td>\n",
       "      <td>Should give you guys an anatomy chart . So you...</td>\n",
       "      <td>0</td>\n",
       "      <td>114</td>\n",
       "    </tr>\n",
       "    <tr>\n",
       "      <th>4</th>\n",
       "      <td>4</td>\n",
       "      <td>My only point is , KD should have gotten a 2nd...</td>\n",
       "      <td>0</td>\n",
       "      <td>98</td>\n",
       "    </tr>\n",
       "    <tr>\n",
       "      <th>...</th>\n",
       "      <td>...</td>\n",
       "      <td>...</td>\n",
       "      <td>...</td>\n",
       "      <td>...</td>\n",
       "    </tr>\n",
       "    <tr>\n",
       "      <th>34433</th>\n",
       "      <td>35159</td>\n",
       "      <td>the kung fu nuns of the hi amalayas break bric...</td>\n",
       "      <td>6</td>\n",
       "      <td>120</td>\n",
       "    </tr>\n",
       "    <tr>\n",
       "      <th>34434</th>\n",
       "      <td>35160</td>\n",
       "      <td>girl scouts of greater new yorks troop 6000 is...</td>\n",
       "      <td>6</td>\n",
       "      <td>280</td>\n",
       "    </tr>\n",
       "    <tr>\n",
       "      <th>34435</th>\n",
       "      <td>35161</td>\n",
       "      <td>they sell cookies, earn badges and, on their h...</td>\n",
       "      <td>6</td>\n",
       "      <td>344</td>\n",
       "    </tr>\n",
       "    <tr>\n",
       "      <th>34436</th>\n",
       "      <td>35162</td>\n",
       "      <td>we changed our logo for #hashtag  be sure to ...</td>\n",
       "      <td>6</td>\n",
       "      <td>245</td>\n",
       "    </tr>\n",
       "    <tr>\n",
       "      <th>34437</th>\n",
       "      <td>35163</td>\n",
       "      <td>chandro tomar, aka shooter dadi, is in her 80s...</td>\n",
       "      <td>6</td>\n",
       "      <td>240</td>\n",
       "    </tr>\n",
       "  </tbody>\n",
       "</table>\n",
       "<p>34438 rows × 4 columns</p>\n",
       "</div>"
      ],
      "text/plain": [
       "       index  ... char_length\n",
       "0          0  ...          62\n",
       "1          1  ...          52\n",
       "2          2  ...         100\n",
       "3          3  ...         114\n",
       "4          4  ...          98\n",
       "...      ...  ...         ...\n",
       "34433  35159  ...         120\n",
       "34434  35160  ...         280\n",
       "34435  35161  ...         344\n",
       "34436  35162  ...         245\n",
       "34437  35163  ...         240\n",
       "\n",
       "[34438 rows x 4 columns]"
      ]
     },
     "execution_count": 123,
     "metadata": {
      "tags": []
     },
     "output_type": "execute_result"
    }
   ],
   "source": [
    "test_data"
   ]
  },
  {
   "cell_type": "code",
   "execution_count": 124,
   "metadata": {
    "colab": {
     "base_uri": "https://localhost:8080/",
     "height": 419
    },
    "colab_type": "code",
    "executionInfo": {
     "elapsed": 380,
     "status": "ok",
     "timestamp": 1586773400624,
     "user": {
      "displayName": "Jeremiah Sahabu",
      "photoUrl": "",
      "userId": "13834387474668736327"
     },
     "user_tz": 420
    },
    "id": "1GHJNxqt_Nq2",
    "outputId": "d703adc5-5042-4701-8b60-cc70c02bd7d3"
   },
   "outputs": [
    {
     "data": {
      "text/html": [
       "<div>\n",
       "<style scoped>\n",
       "    .dataframe tbody tr th:only-of-type {\n",
       "        vertical-align: middle;\n",
       "    }\n",
       "\n",
       "    .dataframe tbody tr th {\n",
       "        vertical-align: top;\n",
       "    }\n",
       "\n",
       "    .dataframe thead th {\n",
       "        text-align: right;\n",
       "    }\n",
       "</style>\n",
       "<table border=\"1\" class=\"dataframe\">\n",
       "  <thead>\n",
       "    <tr style=\"text-align: right;\">\n",
       "      <th></th>\n",
       "      <th>level_0</th>\n",
       "      <th>index</th>\n",
       "      <th>label</th>\n",
       "      <th>text</th>\n",
       "      <th>category</th>\n",
       "      <th>char_length</th>\n",
       "    </tr>\n",
       "  </thead>\n",
       "  <tbody>\n",
       "    <tr>\n",
       "      <th>0</th>\n",
       "      <td>0</td>\n",
       "      <td>0</td>\n",
       "      <td>1</td>\n",
       "      <td>i wanna smoke a blunt w / her</td>\n",
       "      <td>0.0</td>\n",
       "      <td>30</td>\n",
       "    </tr>\n",
       "    <tr>\n",
       "      <th>1</th>\n",
       "      <td>1</td>\n",
       "      <td>1</td>\n",
       "      <td>1</td>\n",
       "      <td>NOT THE TANK OVER A WHITE SHIRT</td>\n",
       "      <td>0.0</td>\n",
       "      <td>32</td>\n",
       "    </tr>\n",
       "    <tr>\n",
       "      <th>2</th>\n",
       "      <td>2</td>\n",
       "      <td>2</td>\n",
       "      <td>1</td>\n",
       "      <td>Bruh ! ! She recorded her baby’s reaction to h...</td>\n",
       "      <td>0.0</td>\n",
       "      <td>75</td>\n",
       "    </tr>\n",
       "    <tr>\n",
       "      <th>3</th>\n",
       "      <td>3</td>\n",
       "      <td>3</td>\n",
       "      <td>1</td>\n",
       "      <td>i miss softball so much best time of my life</td>\n",
       "      <td>0.0</td>\n",
       "      <td>44</td>\n",
       "    </tr>\n",
       "    <tr>\n",
       "      <th>4</th>\n",
       "      <td>4</td>\n",
       "      <td>4</td>\n",
       "      <td>1</td>\n",
       "      <td>I will never forgive America for what they did...</td>\n",
       "      <td>0.0</td>\n",
       "      <td>56</td>\n",
       "    </tr>\n",
       "    <tr>\n",
       "      <th>...</th>\n",
       "      <td>...</td>\n",
       "      <td>...</td>\n",
       "      <td>...</td>\n",
       "      <td>...</td>\n",
       "      <td>...</td>\n",
       "      <td>...</td>\n",
       "    </tr>\n",
       "    <tr>\n",
       "      <th>137253</th>\n",
       "      <td>138705</td>\n",
       "      <td>140452</td>\n",
       "      <td>0</td>\n",
       "      <td>new :  presi wouldent trump says the cdc is ad...</td>\n",
       "      <td>5.0</td>\n",
       "      <td>124</td>\n",
       "    </tr>\n",
       "    <tr>\n",
       "      <th>137254</th>\n",
       "      <td>138706</td>\n",
       "      <td>140453</td>\n",
       "      <td>0</td>\n",
       "      <td>ohio resi wouldent kelly conkey bi willups los...</td>\n",
       "      <td>5.0</td>\n",
       "      <td>344</td>\n",
       "    </tr>\n",
       "    <tr>\n",
       "      <th>137255</th>\n",
       "      <td>138707</td>\n",
       "      <td>140454</td>\n",
       "      <td>0</td>\n",
       "      <td>presi wouldent trump says he has tested negati...</td>\n",
       "      <td>5.0</td>\n",
       "      <td>160</td>\n",
       "    </tr>\n",
       "    <tr>\n",
       "      <th>137256</th>\n",
       "      <td>138708</td>\n",
       "      <td>140455</td>\n",
       "      <td>0</td>\n",
       "      <td>new :  us supreme court cancels oral arguments...</td>\n",
       "      <td>5.0</td>\n",
       "      <td>177</td>\n",
       "    </tr>\n",
       "    <tr>\n",
       "      <th>137257</th>\n",
       "      <td>138709</td>\n",
       "      <td>140456</td>\n",
       "      <td>0</td>\n",
       "      <td>nyc mayor de blasio on the coronavirus outbrea...</td>\n",
       "      <td>5.0</td>\n",
       "      <td>203</td>\n",
       "    </tr>\n",
       "  </tbody>\n",
       "</table>\n",
       "<p>137258 rows × 6 columns</p>\n",
       "</div>"
      ],
      "text/plain": [
       "        level_0   index  ...  category char_length\n",
       "0             0       0  ...       0.0          30\n",
       "1             1       1  ...       0.0          32\n",
       "2             2       2  ...       0.0          75\n",
       "3             3       3  ...       0.0          44\n",
       "4             4       4  ...       0.0          56\n",
       "...         ...     ...  ...       ...         ...\n",
       "137253   138705  140452  ...       5.0         124\n",
       "137254   138706  140453  ...       5.0         344\n",
       "137255   138707  140454  ...       5.0         160\n",
       "137256   138708  140455  ...       5.0         177\n",
       "137257   138709  140456  ...       5.0         203\n",
       "\n",
       "[137258 rows x 6 columns]"
      ]
     },
     "execution_count": 124,
     "metadata": {
      "tags": []
     },
     "output_type": "execute_result"
    }
   ],
   "source": [
    "train_data"
   ]
  },
  {
   "cell_type": "code",
   "execution_count": 0,
   "metadata": {
    "colab": {},
    "colab_type": "code",
    "id": "QmSrO_yjEJpo"
   },
   "outputs": [],
   "source": [
    "train_data = train_data.drop('level_0', axis = 1)"
   ]
  },
  {
   "cell_type": "code",
   "execution_count": 0,
   "metadata": {
    "colab": {},
    "colab_type": "code",
    "id": "I3pYVhOPEW-O"
   },
   "outputs": [],
   "source": [
    "train_data = train_data.drop(\"index\", axis=1)"
   ]
  },
  {
   "cell_type": "code",
   "execution_count": 128,
   "metadata": {
    "colab": {
     "base_uri": "https://localhost:8080/",
     "height": 419
    },
    "colab_type": "code",
    "executionInfo": {
     "elapsed": 520,
     "status": "ok",
     "timestamp": 1586773485104,
     "user": {
      "displayName": "Jeremiah Sahabu",
      "photoUrl": "",
      "userId": "13834387474668736327"
     },
     "user_tz": 420
    },
    "id": "aKv5ag4nEc8l",
    "outputId": "342e1d4a-4397-4e14-d0f3-5848a96f8f5d"
   },
   "outputs": [
    {
     "data": {
      "text/html": [
       "<div>\n",
       "<style scoped>\n",
       "    .dataframe tbody tr th:only-of-type {\n",
       "        vertical-align: middle;\n",
       "    }\n",
       "\n",
       "    .dataframe tbody tr th {\n",
       "        vertical-align: top;\n",
       "    }\n",
       "\n",
       "    .dataframe thead th {\n",
       "        text-align: right;\n",
       "    }\n",
       "</style>\n",
       "<table border=\"1\" class=\"dataframe\">\n",
       "  <thead>\n",
       "    <tr style=\"text-align: right;\">\n",
       "      <th></th>\n",
       "      <th>label</th>\n",
       "      <th>text</th>\n",
       "      <th>category</th>\n",
       "      <th>char_length</th>\n",
       "    </tr>\n",
       "  </thead>\n",
       "  <tbody>\n",
       "    <tr>\n",
       "      <th>0</th>\n",
       "      <td>1</td>\n",
       "      <td>i wanna smoke a blunt w / her</td>\n",
       "      <td>0.0</td>\n",
       "      <td>30</td>\n",
       "    </tr>\n",
       "    <tr>\n",
       "      <th>1</th>\n",
       "      <td>1</td>\n",
       "      <td>NOT THE TANK OVER A WHITE SHIRT</td>\n",
       "      <td>0.0</td>\n",
       "      <td>32</td>\n",
       "    </tr>\n",
       "    <tr>\n",
       "      <th>2</th>\n",
       "      <td>1</td>\n",
       "      <td>Bruh ! ! She recorded her baby’s reaction to h...</td>\n",
       "      <td>0.0</td>\n",
       "      <td>75</td>\n",
       "    </tr>\n",
       "    <tr>\n",
       "      <th>3</th>\n",
       "      <td>1</td>\n",
       "      <td>i miss softball so much best time of my life</td>\n",
       "      <td>0.0</td>\n",
       "      <td>44</td>\n",
       "    </tr>\n",
       "    <tr>\n",
       "      <th>4</th>\n",
       "      <td>1</td>\n",
       "      <td>I will never forgive America for what they did...</td>\n",
       "      <td>0.0</td>\n",
       "      <td>56</td>\n",
       "    </tr>\n",
       "    <tr>\n",
       "      <th>...</th>\n",
       "      <td>...</td>\n",
       "      <td>...</td>\n",
       "      <td>...</td>\n",
       "      <td>...</td>\n",
       "    </tr>\n",
       "    <tr>\n",
       "      <th>137253</th>\n",
       "      <td>0</td>\n",
       "      <td>new :  presi wouldent trump says the cdc is ad...</td>\n",
       "      <td>5.0</td>\n",
       "      <td>124</td>\n",
       "    </tr>\n",
       "    <tr>\n",
       "      <th>137254</th>\n",
       "      <td>0</td>\n",
       "      <td>ohio resi wouldent kelly conkey bi willups los...</td>\n",
       "      <td>5.0</td>\n",
       "      <td>344</td>\n",
       "    </tr>\n",
       "    <tr>\n",
       "      <th>137255</th>\n",
       "      <td>0</td>\n",
       "      <td>presi wouldent trump says he has tested negati...</td>\n",
       "      <td>5.0</td>\n",
       "      <td>160</td>\n",
       "    </tr>\n",
       "    <tr>\n",
       "      <th>137256</th>\n",
       "      <td>0</td>\n",
       "      <td>new :  us supreme court cancels oral arguments...</td>\n",
       "      <td>5.0</td>\n",
       "      <td>177</td>\n",
       "    </tr>\n",
       "    <tr>\n",
       "      <th>137257</th>\n",
       "      <td>0</td>\n",
       "      <td>nyc mayor de blasio on the coronavirus outbrea...</td>\n",
       "      <td>5.0</td>\n",
       "      <td>203</td>\n",
       "    </tr>\n",
       "  </tbody>\n",
       "</table>\n",
       "<p>137258 rows × 4 columns</p>\n",
       "</div>"
      ],
      "text/plain": [
       "        label  ... char_length\n",
       "0           1  ...          30\n",
       "1           1  ...          32\n",
       "2           1  ...          75\n",
       "3           1  ...          44\n",
       "4           1  ...          56\n",
       "...       ...  ...         ...\n",
       "137253      0  ...         124\n",
       "137254      0  ...         344\n",
       "137255      0  ...         160\n",
       "137256      0  ...         177\n",
       "137257      0  ...         203\n",
       "\n",
       "[137258 rows x 4 columns]"
      ]
     },
     "execution_count": 128,
     "metadata": {
      "tags": []
     },
     "output_type": "execute_result"
    }
   ],
   "source": [
    "train_data"
   ]
  },
  {
   "cell_type": "code",
   "execution_count": 36,
   "metadata": {
    "colab": {},
    "colab_type": "code",
    "id": "x_eABW5QEdpG"
   },
   "outputs": [
    {
     "name": "stdout",
     "output_type": "stream",
     "text": [
      "Collecting matplotlib\n",
      "  Downloading matplotlib-3.2.1-cp37-cp37m-manylinux1_x86_64.whl (12.4 MB)\n",
      "\u001b[K     |████████████████████████████████| 12.4 MB 4.7 MB/s eta 0:00:01\n",
      "\u001b[?25hCollecting kiwisolver>=1.0.1\n",
      "  Downloading kiwisolver-1.2.0-cp37-cp37m-manylinux1_x86_64.whl (88 kB)\n",
      "\u001b[K     |████████████████████████████████| 88 kB 8.2 MB/s  eta 0:00:01\n",
      "\u001b[?25hCollecting cycler>=0.10\n",
      "  Downloading cycler-0.10.0-py2.py3-none-any.whl (6.5 kB)\n",
      "Requirement already satisfied: python-dateutil>=2.1 in /home/jjsahabu/miniconda3/lib/python3.7/site-packages (from matplotlib) (2.8.1)\n",
      "Requirement already satisfied: numpy>=1.11 in /home/jjsahabu/miniconda3/lib/python3.7/site-packages (from matplotlib) (1.18.1)\n",
      "Collecting pyparsing!=2.0.4,!=2.1.2,!=2.1.6,>=2.0.1\n",
      "  Downloading pyparsing-2.4.7-py2.py3-none-any.whl (67 kB)\n",
      "\u001b[K     |████████████████████████████████| 67 kB 6.9 MB/s  eta 0:00:01\n",
      "\u001b[?25hRequirement already satisfied: six in /home/jjsahabu/miniconda3/lib/python3.7/site-packages (from cycler>=0.10->matplotlib) (1.14.0)\n",
      "Installing collected packages: kiwisolver, cycler, pyparsing, matplotlib\n",
      "Successfully installed cycler-0.10.0 kiwisolver-1.2.0 matplotlib-3.2.1 pyparsing-2.4.7\n"
     ]
    }
   ],
   "source": [
    "!pip install matplotlib"
   ]
  },
  {
   "cell_type": "code",
   "execution_count": 37,
   "metadata": {},
   "outputs": [],
   "source": [
    "import matplotlib as plt"
   ]
  },
  {
   "cell_type": "code",
   "execution_count": 47,
   "metadata": {},
   "outputs": [
    {
     "data": {
      "image/png": "[encoded data removed]",
      "text/plain": [
       "<Figure size 432x288 with 1 Axes>"
      ]
     },
     "metadata": {
      "needs_background": "light"
     },
     "output_type": "display_data"
    }
   ],
   "source": [
    "hist = plt.hist(train_data['char_length'], bins=5)"
   ]
  },
  {
   "cell_type": "code",
   "execution_count": 39,
   "metadata": {},
   "outputs": [],
   "source": [
    "import matplotlib.pyplot as plt"
   ]
  },
  {
   "cell_type": "code",
   "execution_count": null,
   "metadata": {},
   "outputs": [],
   "source": []
  }
 ],
 "metadata": {
  "colab": {
   "authorship_tag": "ABX9TyMQ0XjEpcC3HmVHUCDUDQ3k",
   "name": "Naive Model.ipynb",
   "provenance": []
  },
  "kernelspec": {
   "display_name": "Python 3",
   "language": "python",
   "name": "python3"
  },
  "language_info": {
   "codemirror_mode": {
    "name": "ipython",
    "version": 3
   },
   "file_extension": ".py",
   "mimetype": "text/x-python",
   "name": "python",
   "nbconvert_exporter": "python",
   "pygments_lexer": "ipython3",
   "version": "3.7.6"
  }
 },
 "nbformat": 4,
 "nbformat_minor": 1
}
